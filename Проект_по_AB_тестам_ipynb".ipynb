{
  "cells": [
    {
      "cell_type": "markdown",
      "metadata": {
        "id": "view-in-github",
        "colab_type": "text"
      },
      "source": [
        "<a href=\"https://colab.research.google.com/github/ttimoff/A-B-test-project2/blob/main/%D0%9F%D1%80%D0%BE%D0%B5%D0%BA%D1%82_%D0%BF%D0%BE_AB_%D1%82%D0%B5%D1%81%D1%82%D0%B0%D0%BC_ipynb%22.ipynb\" target=\"_parent\"><img src=\"https://colab.research.google.com/assets/colab-badge.svg\" alt=\"Open In Colab\"/></a>"
      ]
    },
    {
      "cell_type": "markdown",
      "id": "96ac1922",
      "metadata": {
        "id": "96ac1922"
      },
      "source": [
        "# Шаблон для проекта по A/B - тестам."
      ]
    },
    {
      "cell_type": "markdown",
      "id": "e01e5ec9",
      "metadata": {
        "id": "e01e5ec9"
      },
      "source": [
        "### `chat_id ` из Телеграма:"
      ]
    },
    {
      "cell_type": "code",
      "source": [
        "chat_id = 1379613676"
      ],
      "metadata": {
        "id": "Of7L1OK6jEKT"
      },
      "id": "Of7L1OK6jEKT",
      "execution_count": null,
      "outputs": []
    },
    {
      "cell_type": "markdown",
      "id": "1fb036f5",
      "metadata": {
        "id": "1fb036f5"
      },
      "source": [
        "------------------"
      ]
    },
    {
      "cell_type": "markdown",
      "id": "d8c6f14f",
      "metadata": {
        "id": "d8c6f14f"
      },
      "source": [
        "##  <ins>Задание 1.</ins>"
      ]
    },
    {
      "cell_type": "markdown",
      "source": [
        "### 0. Запосить у бота в Телеграме условие командой `/get_project1_desc`."
      ],
      "metadata": {
        "id": "cMi1ZWvej6zB"
      },
      "id": "cMi1ZWvej6zB"
    },
    {
      "cell_type": "markdown",
      "source": [
        "### Контекст\n",
        "В связи с постановлением Центрального Банка\n",
        "наше текущее содержание диалога с клиентом (скрипт)\n",
        "операторов считается слишком жёстким,\n",
        "и нам нужно придумать более мягкий скрипт,\n",
        "который будет всё ещё иметь хорошие показатели.\\\n",
        "У нас есть два варианта более мягкого скрипта,\n",
        "и мы хотим выбрать лучший из них.\\\n",
        "При этом у нас нет времени \n",
        "чтобы ждать вызревания долгих метрик вроде PV.\n",
        "        \n",
        "### Тест\n",
        "Мы проводим тест,\n",
        "в рамках которого мы разбиваем весь поток\n",
        "на две части рановероятно,\n",
        "где одной части мы продаём одним вариантом скрипта,\n",
        "другой - другим.\\\n",
        "Целью этого теста\n",
        "является поиск наилучшего скрипта.\n",
        "\n",
        "### Статистические вводные\n",
        "Уровень значимости 5%.\\\n",
        "Мы хотели бы различать 8%-ное\n",
        "изменение целевой метрики\\\n",
        "с вероятностью 80%."
      ],
      "metadata": {
        "id": "6wtHzqXbJkKA"
      },
      "id": "6wtHzqXbJkKA"
    },
    {
      "cell_type": "markdown",
      "id": "0dd4c840",
      "metadata": {
        "id": "0dd4c840"
      },
      "source": [
        "### 1. Необходимо выбрать метрику и привести аргументацию."
      ]
    },
    {
      "cell_type": "markdown",
      "source": [
        "По условию задачи: \"целью этого теста является поиск наилучшего скрипта\". \\\n",
        "\"наилучший\" - понятие относительное. В таком случае я бы смотрел на колонку NPV. \\\n",
        "Однако мы не можем использовать PV (следовательно, NPV тоже) по условию задачи. \\\n",
        "Остается три колонки, с которыми мы можем работать: Флаг дозвона, Флаг продажи, Расходы.\n",
        "\n",
        "Хотелось бы выделить такую целевую метрику - доля продаж в случае дозвона (все флаги продаж / все влаги дозвона). Однако я не могу придумывать свою метрику из описания 3 пункта (\"Определите целевую метрику (= какой-то из колонок) и альтернативу.\") - мне необходимо выбрать метрику по одной из 3-х колонок. \n",
        "\n",
        "Если считать, что в обоих выборках шанс дозвониться равновероятен, то наиболее подходящей метрикой будет считаться флаг продажи. Если какой-то скрипт сумел продать больше другого, то тогда можно считать, что этот скрипт \"лучше\"\n",
        "\n",
        "Итог: целевая метрика - флаг продажи."
      ],
      "metadata": {
        "id": "2IhtrB_WJFYG"
      },
      "id": "2IhtrB_WJFYG"
    },
    {
      "cell_type": "markdown",
      "id": "b644cd0a",
      "metadata": {
        "id": "b644cd0a"
      },
      "source": [
        "### 2. Альтернатива в критерии."
      ]
    },
    {
      "cell_type": "markdown",
      "source": [
        "Альтернатива в критерии - двусторонняя. По условию задачи мы хотим определить победителя, поэтому либо есть явный победитель, либо определить победителя невозможно. "
      ],
      "metadata": {
        "id": "KIu0p_s9JWLq"
      },
      "id": "KIu0p_s9JWLq"
    },
    {
      "cell_type": "markdown",
      "source": [],
      "metadata": {
        "id": "7h1Q6MyAKPOu"
      },
      "id": "7h1Q6MyAKPOu"
    },
    {
      "cell_type": "markdown",
      "source": [
        "### 3.1. Каков размер выборки? Привести аргументацию и написать как получилось то или иное число."
      ],
      "metadata": {
        "id": "O8UUMnGwK9NS"
      },
      "id": "O8UUMnGwK9NS"
    },
    {
      "cell_type": "markdown",
      "source": [
        "По формуле для случая Бернулли:\\\n",
        "`N = M = p(1-p)(z_{1-a} - z_{b})^2 / (k * MDE^2)`\n",
        "\n",
        "Но т.к. альтернатива двусторонняя, то `z_{1-a}` заменяем на `z_{1-a/2}`:\\\n",
        "`N = M = p(1-p)(z_{1-a/2} - z_{b})^2 / (k * MDE^2)`\n",
        "\n",
        "Где:\\\n",
        "`z_{a}` = `norm.ppf(a)`\\\n",
        "`a = 0.05`\\\n",
        "`b = 0.2`\\\n",
        "`k = 0.5` - считаем, что контроль и тест равен по выборке.\\\n",
        "`p` - конверсия по флагу продаж.\\\n",
        "`MDE = 0.08 * p` - MDE = желаемое изменение метрики * значение метрики на контроле (примерно то же, что и на исторических данных);"
      ],
      "metadata": {
        "id": "qyM_0ypvLgNC"
      },
      "id": "qyM_0ypvLgNC"
    },
    {
      "cell_type": "code",
      "source": [
        "from scipy.stats import norm\n",
        "import pandas as pd\n",
        "\n",
        "data = pd.read_csv(\"hist_telesales.csv\", index_col=0)\n",
        "\n",
        "a = 0.05\n",
        "b = 0.2\n",
        "k = 0.5\n",
        "p = data['Флаг продажи'].mean()\n",
        "mde = 0.08 * p\n",
        "z = norm.ppf(1-a/2) - norm.ppf(b)\n",
        "N = p * (1 - p) * z ** 2 / (k * mde ** 2)\n",
        "\n",
        "print(f\"{mde = }\")\n",
        "print(f\"{p = }\")\n",
        "print(f\"{N = }\")\n"
      ],
      "metadata": {
        "colab": {
          "base_uri": "https://localhost:8080/"
        },
        "id": "dOmKdpQRLiVH",
        "outputId": "0cb9c572-139e-4849-9392-bd9d8fbb4ae5"
      },
      "id": "dOmKdpQRLiVH",
      "execution_count": null,
      "outputs": [
        {
          "output_type": "stream",
          "name": "stdout",
          "text": [
            "mde = 0.024167993096174133\n",
            "p = 0.30209991370217665\n",
            "N = 5666.310212587125\n"
          ]
        }
      ]
    },
    {
      "cell_type": "markdown",
      "id": "8df8ee73",
      "metadata": {
        "id": "8df8ee73"
      },
      "source": [
        "### 3.2. Необходимо запросить у бота в Телеграме выборку полученного размера командой `/get_project1_sample {размер выборки}` и вписать <ins>код выборки</ins>:"
      ]
    },
    {
      "cell_type": "markdown",
      "source": [
        "/get_project1_sample 5664\n",
        "\n",
        "Код выборки: 26329\n"
      ],
      "metadata": {
        "id": "E-ziwIxzR5wA"
      },
      "id": "E-ziwIxzR5wA"
    },
    {
      "cell_type": "code",
      "source": [
        "control = pd.read_csv(\"Контроль.csv\", index_col=0)\n",
        "test = pd.read_csv(\"Тест.csv\", index_col=0)\n",
        "\n",
        "vis_A = len(control)\n",
        "vis_B = len(test)\n",
        "\n",
        "conv_A = vis_A * control['Флаг продажи'].mean()\n",
        "conv_B = vis_B * test['Флаг продажи'].mean()\n",
        "\n",
        "print(f\"{vis_A = }\")\n",
        "print(f\"{conv_A = }\")\n",
        "print(f\"{vis_B = }\")\n",
        "print(f\"{conv_B = }\")"
      ],
      "metadata": {
        "id": "9vCrM3wcjM0H",
        "colab": {
          "base_uri": "https://localhost:8080/"
        },
        "outputId": "107e9be7-0664-473a-f310-75cfdfdfeb8f"
      },
      "id": "9vCrM3wcjM0H",
      "execution_count": null,
      "outputs": [
        {
          "output_type": "stream",
          "name": "stdout",
          "text": [
            "vis_A = 5664\n",
            "conv_A = 1714.0\n",
            "vis_B = 5664\n",
            "conv_B = 1682.0\n"
          ]
        }
      ]
    },
    {
      "cell_type": "markdown",
      "id": "22e2d9b0",
      "metadata": {
        "id": "22e2d9b0"
      },
      "source": [
        "### 4. Принятие решения. Расписать подробно с аргументами."
      ]
    },
    {
      "cell_type": "markdown",
      "source": [
        "Проводим тест с помощью сайта https://abtestguide.com/calc/?ua=5664&ub=5664&ca=1714&cb=1682&tail=2\n",
        "\n",
        "В качестве Confidence берем значение 95%, так как alpha = 0.05. Hypothesis - Two-sided Размеры выборок A (контроль) и B (тест). Обе равны 5664, флагов продажи для A = 1714, для B = 1682.\n",
        "\n",
        "Не получилось отвергнуть нулевую гипотезу, нет оснований считать выборки разными.\n",
        "\n",
        "p-value критерия: 0.512."
      ],
      "metadata": {
        "id": "yrg1sm26b6wG"
      },
      "id": "yrg1sm26b6wG"
    },
    {
      "cell_type": "markdown",
      "id": "f9e15111",
      "metadata": {
        "id": "f9e15111"
      },
      "source": [
        "------------------"
      ]
    },
    {
      "cell_type": "markdown",
      "id": "7ea196b1",
      "metadata": {
        "id": "7ea196b1"
      },
      "source": [
        "##  <ins>Задание 2.</ins>"
      ]
    },
    {
      "cell_type": "markdown",
      "source": [
        "### 0. Запосить у бота в Телеграме условие командой `/get_project2_desc`."
      ],
      "metadata": {
        "id": "M0mI4jfTkCk6"
      },
      "id": "M0mI4jfTkCk6"
    },
    {
      "cell_type": "markdown",
      "source": [
        "###Контекст\n",
        "Мы провели Cust Dev и поняли,\n",
        "что форма авторизации для клиента сложна,\n",
        "и из-за этого часть клиентов\n",
        "отваливается в заявочном процессе.\n",
        "Мы решили разработать\n",
        "новый процесс авторизации,\n",
        "и у нас есть гипотеза,\n",
        "что он позволит повысить\n",
        "утилизации наших счетов.\n",
        "        \n",
        "###Тест\n",
        "Мы проводим тест,\n",
        "в рамках которого мы разбиваем весь поток\n",
        "на две части рановероятно,\n",
        "где у одной части (контроля) \n",
        "старый процесс авторизации,\n",
        "а у второй части (теста) - новый.\n",
        "Целью этого теста\n",
        "является повышение утилизаций счёта.\n",
        "\n",
        "###Статистические вводные\n",
        "Проверка однородности выбранного параметра\n",
        "осуществяется с уровнем значимости 2%.\n",
        "\n",
        "Уровень значимости 5%.\n",
        "Мы хотели бы различать 3%-ное\n",
        "изменение целевой метрики\n",
        "с вероятностью 95%."
      ],
      "metadata": {
        "id": "Muii3WTm63vO"
      },
      "id": "Muii3WTm63vO"
    },
    {
      "cell_type": "markdown",
      "source": [
        "##Описание данных\n",
        "\n",
        "Описание колонок в исторических данных.\n",
        "\n",
        "\n",
        "**ID** - номер заявки, прошедшей скоринг\n",
        "\n",
        "**Возраст** - возраст клиента, указанный при оформлении КК\n",
        "\n",
        "**Доход клиента** - доход клиента, указанный при оформлении КК\n",
        "\n",
        "**Вероятность банкротства** - оценка вероятности банкротства клиента, полученная с помощью скоринга по параметрам клиента\n",
        "\n",
        "**Флаг утилизация счёта** - совершение первой расходной операции на счёте КК\n",
        "\n",
        "**Расходы** - сумма затрат на заявку\n",
        "\n",
        "**PV КК** - 0 если счёт не утилизирован, иначе = PV кредитной карты\n",
        "\n",
        "**PV услуги** - 0 если счёт не утилизирован, иначе = PV этой услуги\n",
        "\n",
        "**NPV** = PV КК + PV услуги - Расходы"
      ],
      "metadata": {
        "id": "stHf_FOt7wMk"
      },
      "id": "stHf_FOt7wMk"
    },
    {
      "cell_type": "code",
      "source": [],
      "metadata": {
        "id": "CEMJ2BAeAGwD"
      },
      "id": "CEMJ2BAeAGwD",
      "execution_count": null,
      "outputs": []
    },
    {
      "cell_type": "markdown",
      "id": "e4691844",
      "metadata": {
        "id": "e4691844"
      },
      "source": [
        "### 1. Необходимо выбрать метрику и привести аргументацию."
      ]
    },
    {
      "cell_type": "markdown",
      "source": [
        "Целью этого теста является повышение утилизаций счёта.\n",
        "\n",
        "Очевидно, что целевая метрика: Флаг утилизации счёта."
      ],
      "metadata": {
        "id": "inSFPDF1_GYd"
      },
      "id": "inSFPDF1_GYd"
    },
    {
      "cell_type": "markdown",
      "id": "e36b594c",
      "metadata": {
        "id": "e36b594c"
      },
      "source": [
        "### 2. Альтернатива в критерии."
      ]
    },
    {
      "cell_type": "markdown",
      "source": [
        "Альтернатива - односторонняя. Либо тест успешен по сравнению с контролем, либо - провален.\n",
        "\n"
      ],
      "metadata": {
        "id": "WRTUtrNX_Hy-"
      },
      "id": "WRTUtrNX_Hy-"
    },
    {
      "cell_type": "code",
      "source": [],
      "metadata": {
        "id": "pBmniztEjRQP"
      },
      "id": "pBmniztEjRQP",
      "execution_count": null,
      "outputs": []
    },
    {
      "cell_type": "markdown",
      "id": "692b97f3",
      "metadata": {
        "id": "692b97f3"
      },
      "source": [
        "### 3. Нужно выбрать параметр(-ы), влияющий(-ие) на целевую метрику. Привести аргументацию."
      ]
    },
    {
      "cell_type": "markdown",
      "source": [
        "Необходимо выбрать параметр, который имеет наибольшее влияние на целевую метрику. Данный параметр должен относиться к социально-демографическим сведениям о клиенте, которые доступны для анализа до включения его в заявку. Рассчитаем корреляцию относительно целевой метрики.\n",
        "\n",
        "Доступны на выбор:\n",
        "- Возраст,\n",
        "- Доход клиента,\n",
        "- Вероятность банкротства\n",
        "\n",
        "Посмотрим на их корреляцию с NPV. Возьмем тот, у которого значение корелляции по модулю больше.\n",
        "\n"
      ],
      "metadata": {
        "id": "CqnkEsv0_7YL"
      },
      "id": "CqnkEsv0_7YL"
    },
    {
      "cell_type": "code",
      "source": [
        "import pandas as pd\n",
        "data = pd.read_csv(\"hist_credit_card.csv\", index_col=0)\n",
        "data.corr()['Флаг утилизации счёта'].head(3)"
      ],
      "metadata": {
        "id": "4bYv6W9ljUEg",
        "colab": {
          "base_uri": "https://localhost:8080/"
        },
        "outputId": "5ed0f36d-4f9f-402b-9982-3a358f43a5a5"
      },
      "id": "4bYv6W9ljUEg",
      "execution_count": null,
      "outputs": [
        {
          "output_type": "execute_result",
          "data": {
            "text/plain": [
              "Возраст                    0.007277\n",
              "Доход клиента              0.000706\n",
              "Вероятность банкротства   -0.215398\n",
              "Name: Флаг утилизации счёта, dtype: float64"
            ]
          },
          "metadata": {},
          "execution_count": 6
        }
      ]
    },
    {
      "cell_type": "markdown",
      "source": [
        "Выбираем **вероятность банкротства**."
      ],
      "metadata": {
        "id": "MY8B0h3CALXp"
      },
      "id": "MY8B0h3CALXp"
    },
    {
      "cell_type": "markdown",
      "id": "9b40ecbb",
      "metadata": {
        "id": "9b40ecbb"
      },
      "source": [
        "### 4.1. Каков размер выборки? Привести аргументацию и написать как получилось то или иное число."
      ]
    },
    {
      "cell_type": "markdown",
      "source": [
        "По формуле для общего случая:\\\n",
        "`N = M = sigma^2*(z_{1-a} - z_{b})^2 / (k * MDE^2)`\n",
        "\n",
        "Где:\\\n",
        "`z_{a}` = `norm.ppf(a)`\\\n",
        "`a = 0.05`\\\n",
        "`b = 0.05`\\\n",
        "`k = 0.5` - считаем, что контроль и тест равен по выборке.\\\n",
        "`sigma^2` - дисперсия.\\\n",
        "`MDE = 0.03 * p` - MDE = желаемое изменение метрики * значение метрики на контроле (примерно то же, что и на исторических данных);"
      ],
      "metadata": {
        "id": "LWTXbWedAgVc"
      },
      "id": "LWTXbWedAgVc"
    },
    {
      "cell_type": "code",
      "source": [
        "from scipy.stats import norm\n",
        "import pandas as pd\n",
        "\n",
        "data = pd.read_csv(\"hist_credit_card.csv\", index_col=0)\n",
        "\n",
        "a = 0.05\n",
        "b = 0.05\n",
        "k = 0.5\n",
        "sigma2 = data['Флаг утилизации счёта'].var()\n",
        "mde = 0.03 * data['Флаг утилизации счёта'].mean()\n",
        "z = norm.ppf(1-a) - norm.ppf(b)\n",
        "N = sigma2 * z ** 2 / (k * mde ** 2)\n",
        "print(f\"{sigma2 = }\")\n",
        "print(f\"{sigma2 = }\")\n",
        "print(f\"{N = }\")"
      ],
      "metadata": {
        "id": "tk7WBLvmjSnM",
        "colab": {
          "base_uri": "https://localhost:8080/"
        },
        "outputId": "a8e1bf4c-1639-4955-c662-895c8f69c728"
      },
      "id": "tk7WBLvmjSnM",
      "execution_count": null,
      "outputs": [
        {
          "output_type": "stream",
          "name": "stdout",
          "text": [
            "sigma2 = 0.19165807345507177\n",
            "N = 8382.147778752884\n"
          ]
        }
      ]
    },
    {
      "cell_type": "code",
      "source": [
        "data['Флаг утилизации счёта'].mean()"
      ],
      "metadata": {
        "colab": {
          "base_uri": "https://localhost:8080/"
        },
        "id": "Tc0SHP0nCAAU",
        "outputId": "e690f8bb-7143-4ba3-da21-f9fa3cfe710c"
      },
      "id": "Tc0SHP0nCAAU",
      "execution_count": null,
      "outputs": [
        {
          "output_type": "execute_result",
          "data": {
            "text/plain": [
              "0.7415439535921463"
            ]
          },
          "metadata": {},
          "execution_count": 14
        }
      ]
    },
    {
      "cell_type": "markdown",
      "id": "b13ea8ee",
      "metadata": {
        "id": "b13ea8ee"
      },
      "source": [
        "### 4.2. Необходимо запросить у бота в Телеграме выборку полученного размера командой `/get_project2_sample {размер выборки}` и вписать <ins>код выборки</ins>:"
      ]
    },
    {
      "cell_type": "markdown",
      "source": [
        "`/get_project2_sample 8382`\n",
        "\n",
        "Код выборки: `42705`"
      ],
      "metadata": {
        "id": "ebTT15DzCgQN"
      },
      "id": "ebTT15DzCgQN"
    },
    {
      "cell_type": "code",
      "source": [],
      "metadata": {
        "id": "F5c-oqIBjVJS"
      },
      "id": "F5c-oqIBjVJS",
      "execution_count": null,
      "outputs": []
    },
    {
      "cell_type": "markdown",
      "id": "f6945c8f",
      "metadata": {
        "id": "f6945c8f"
      },
      "source": [
        "### 5. Проверка на однородность, применение критерия. Принятие решения. Расписать подробно с аргументами."
      ]
    },
    {
      "cell_type": "code",
      "source": [
        "from statsmodels.stats.weightstats import ztest\n",
        "from scipy.stats import mannwhitneyu\n",
        "import numpy as np\n",
        "\n",
        "control = pd.read_csv(\"Контроль.csv\", index_col=0)\n",
        "test = pd.read_csv(\"Тест.csv\", index_col=0)\n",
        "\n",
        "alpha = 0.02\n",
        "x = control[\"Вероятность банкротства\"]\n",
        "y = test[\"Вероятность банкротства\"]\n",
        "print(f\"{control['Вероятность банкротства'].mean() = }\")\n",
        "print(f\"{test['Вероятность банкротства'].mean() = }\")\n",
        "print(f\"{control['Флаг утилизации счёта'].mean() = }\")\n",
        "print(f\"{test['Флаг утилизации счёта'].mean() = }\")\n",
        "print(ztest(x, y))\n",
        "print(\"Недостаточно доказательств неоднородности. Можно проверять целевую метрику\" if ztest(x, y)[1] > alpha else \"Точно неоднородна. Тест провален.\")\n",
        "\n",
        "alpha = 0.05\n",
        "A = control[\"Флаг утилизации счёта\"]\n",
        "B = test[\"Флаг утилизации счёта\"]\n",
        "\n",
        "alternative = 'greater'\n",
        "print(mannwhitneyu(B, A, alternative=alternative))  # H1 - первый аргумент, H0 - второй аргумент\n",
        "print(\"Тест провален\" if mannwhitneyu(B, A, alternative=alternative)[1] > alpha else \"Тест успешен\")\n"
      ],
      "metadata": {
        "id": "LVlEnA4DjWp5",
        "colab": {
          "base_uri": "https://localhost:8080/"
        },
        "outputId": "79333fe8-062b-416d-98e4-377d518f2228"
      },
      "id": "LVlEnA4DjWp5",
      "execution_count": null,
      "outputs": [
        {
          "output_type": "stream",
          "name": "stdout",
          "text": [
            "control['Вероятность банкротства'].mean() = 0.12439534489854154\n",
            "test['Вероятность банкротства'].mean() = 0.13021066701188486\n",
            "control['Флаг утилизации счёта'].mean() = 0.7451682176091625\n",
            "test['Флаг утилизации счёта'].mean() = 0.7573371510379384\n",
            "(-3.3583219018346817, 0.0007841723530155859)\n",
            "Точно неоднородна. Тест провален.\n",
            "MannwhitneyuResult(statistic=35556444.0, pvalue=0.034202897245221416)\n",
            "Тест успешен\n"
          ]
        }
      ]
    }
  ],
  "metadata": {
    "kernelspec": {
      "display_name": "Python 3 (ipykernel)",
      "language": "python",
      "name": "python3"
    },
    "language_info": {
      "codemirror_mode": {
        "name": "ipython",
        "version": 3
      },
      "file_extension": ".py",
      "mimetype": "text/x-python",
      "name": "python",
      "nbconvert_exporter": "python",
      "pygments_lexer": "ipython3",
      "version": "3.9.7"
    },
    "colab": {
      "provenance": [],
      "include_colab_link": true
    }
  },
  "nbformat": 4,
  "nbformat_minor": 5
}